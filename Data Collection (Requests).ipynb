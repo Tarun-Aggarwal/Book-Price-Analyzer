{
 "cells": [
  {
   "cell_type": "code",
   "execution_count": 1,
   "id": "ab622c06-d5f2-4c59-a8b1-d27bcb781dd3",
   "metadata": {},
   "outputs": [],
   "source": [
    "import requests"
   ]
  },
  {
   "cell_type": "markdown",
   "id": "f8c32a71-ec24-40fb-93f5-50eaed8a9f81",
   "metadata": {},
   "source": [
    "**Steps while performing Web Scraping:**\n",
    "1. Collect all the html data first and **store it somehwere** so you may need not to send request over and over again.\n",
    "2. Don't send a lot requests to server, else they will timeout or block your IP\n",
    "3. After Data Collection, use any html data parser like beautiful soup, scrapy etc."
   ]
  },
  {
   "cell_type": "code",
   "execution_count": 17,
   "id": "74c666ae-5917-4842-9399-ef4129cfb428",
   "metadata": {},
   "outputs": [
    {
     "name": "stdout",
     "output_type": "stream",
     "text": [
      "Page 1 loaded successfully\n",
      "Page 2 loaded successfully\n",
      "Page 3 loaded successfully\n",
      "Page 4 loaded successfully\n",
      "Page 5 loaded successfully\n",
      "Page 6 loaded successfully\n",
      "Page 7 loaded successfully\n",
      "Page 8 loaded successfully\n",
      "Page 9 loaded successfully\n",
      "Page 10 loaded successfully\n",
      "Page 11 loaded successfully\n",
      "Page 12 loaded successfully\n",
      "Page 13 loaded successfully\n",
      "Page 14 loaded successfully\n",
      "Page 15 loaded successfully\n",
      "Page 16 loaded successfully\n",
      "Page 17 loaded successfully\n",
      "Page 18 loaded successfully\n",
      "Page 19 loaded successfully\n",
      "Page 20 loaded successfully\n",
      "Page 21 loaded successfully\n",
      "Page 22 loaded successfully\n",
      "Page 23 loaded successfully\n",
      "Page 24 loaded successfully\n",
      "Page 25 loaded successfully\n",
      "Page 26 loaded successfully\n",
      "Page 27 loaded successfully\n",
      "Page 28 loaded successfully\n",
      "Page 29 loaded successfully\n",
      "Page 30 loaded successfully\n",
      "Page 31 loaded successfully\n",
      "Page 32 loaded successfully\n",
      "Page 33 loaded successfully\n",
      "Page 34 loaded successfully\n",
      "Page 35 loaded successfully\n",
      "Page 36 loaded successfully\n",
      "Page 37 loaded successfully\n",
      "Page 38 loaded successfully\n",
      "Page 39 loaded successfully\n",
      "Page 40 loaded successfully\n",
      "Page 41 loaded successfully\n",
      "Page 42 loaded successfully\n",
      "Page 43 loaded successfully\n",
      "Page 44 loaded successfully\n",
      "Page 45 loaded successfully\n",
      "Page 46 loaded successfully\n",
      "Page 47 loaded successfully\n",
      "Page 48 loaded successfully\n",
      "Page 49 loaded successfully\n",
      "Page 50 loaded successfully\n"
     ]
    }
   ],
   "source": [
    "import time\n",
    "\n",
    "headers = {\n",
    "    \"User-Agent\": \"Mozilla/5.0 (Windows NT 10.0; Win64; x64) AppleWebKit/537.36 Chrome/115.0.0.0 Safari/537.36\"\n",
    "}\n",
    "\n",
    "for i in range(1, 51):\n",
    "    url = f\"http://books.toscrape.com/catalogue/page-{i}.html\"\n",
    "    resp = requests.get(url, headers=headers)\n",
    "    \n",
    "    if resp.status_code == 200:\n",
    "        with open(f\"htmls/page{i}.html\", \"w\", encoding=\"utf-8\") as f:\n",
    "            f.write(resp.text)\n",
    "        print(f\"Page {i} loaded successfully\")\n",
    "    else:\n",
    "        print(f\"Failed to get page {i} - Status code: {resp.status_code}\")\n",
    "\n",
    "    time.sleep(1)"
   ]
  },
  {
   "cell_type": "code",
   "execution_count": null,
   "id": "bbe723b9-1568-4c99-93b1-941b402e1df4",
   "metadata": {},
   "outputs": [],
   "source": []
  }
 ],
 "metadata": {
  "kernelspec": {
   "display_name": "Python 3 (ipykernel)",
   "language": "python",
   "name": "python3"
  },
  "language_info": {
   "codemirror_mode": {
    "name": "ipython",
    "version": 3
   },
   "file_extension": ".py",
   "mimetype": "text/x-python",
   "name": "python",
   "nbconvert_exporter": "python",
   "pygments_lexer": "ipython3",
   "version": "3.12.7"
  }
 },
 "nbformat": 4,
 "nbformat_minor": 5
}
